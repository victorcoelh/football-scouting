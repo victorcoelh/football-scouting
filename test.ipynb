{
 "cells": [
  {
   "cell_type": "code",
   "execution_count": 1,
   "id": "02c5866c",
   "metadata": {},
   "outputs": [
    {
     "name": "stdout",
     "output_type": "stream",
     "text": [
      "120350\n"
     ]
    }
   ],
   "source": [
    "import pandas as pd\n",
    "\n",
    "data = pd.read_csv(\"./data/jogadores_brasil_no_bad_columns.csv\")\n",
    "print(data.size)"
   ]
  },
  {
   "cell_type": "code",
   "execution_count": 3,
   "id": "66ac29a6",
   "metadata": {},
   "outputs": [
    {
     "name": "stdout",
     "output_type": "stream",
     "text": [
      "key_passes_per_game\n",
      "dribbles_per_game\n",
      "dribbles_successful_per_game\n",
      "shots_off_target_per_game\n",
      "shots_on_target_per_game\n",
      "fouls_drawn_per_game\n",
      "fouls_committed_per_game\n",
      "dispossesed_per_game\n",
      "blocks_per_game\n",
      "saves_per_game\n",
      "interceptions_per_game\n",
      "aerial_duels_won_per_game\n",
      "accurate_crosses_per_game\n"
     ]
    }
   ],
   "source": [
    "for column in data.columns:\n",
    "    if \"per_game\" in column:\n",
    "        print(column)"
   ]
  },
  {
   "cell_type": "code",
   "execution_count": 22,
   "id": "bcde2b28",
   "metadata": {},
   "outputs": [],
   "source": [
    "for column in data.columns:\n",
    "    value_counts = data[column].value_counts()\n",
    "    if value_counts.size == 1:\n",
    "        print(data[column].value_counts())"
   ]
  },
  {
   "cell_type": "code",
   "execution_count": 21,
   "id": "dd0ce015",
   "metadata": {},
   "outputs": [],
   "source": [
    "should_drop = [\"market_value\", \"salary\", \"distance_travelled_per_game\", \"distance_travelled_per_90\", \"possession_regained_per_game\"]\n",
    "\n",
    "data = data.dropna(axis=0)\\\n",
    "    .drop(should_drop, axis=1)"
   ]
  },
  {
   "cell_type": "code",
   "execution_count": 32,
   "id": "47c411e0",
   "metadata": {},
   "outputs": [],
   "source": [
    "data.to_csv(\"jogadores_brasil_no_bad_columns.csv\")"
   ]
  },
  {
   "cell_type": "code",
   "execution_count": null,
   "id": "118ba683",
   "metadata": {},
   "outputs": [],
   "source": []
  }
 ],
 "metadata": {
  "kernelspec": {
   "display_name": ".venv",
   "language": "python",
   "name": "python3"
  },
  "language_info": {
   "codemirror_mode": {
    "name": "ipython",
    "version": 3
   },
   "file_extension": ".py",
   "mimetype": "text/x-python",
   "name": "python",
   "nbconvert_exporter": "python",
   "pygments_lexer": "ipython3",
   "version": "3.12.10"
  }
 },
 "nbformat": 4,
 "nbformat_minor": 5
}
