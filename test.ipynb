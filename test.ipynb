{
 "cells": [
  {
   "cell_type": "code",
   "execution_count": 16,
   "id": "02c5866c",
   "metadata": {},
   "outputs": [],
   "source": [
    "import pandas as pd\n",
    "\n",
    "data = pd.read_csv(\"./data/jogadores_brasil.csv\")"
   ]
  },
  {
   "cell_type": "code",
   "execution_count": 17,
   "id": "bcde2b28",
   "metadata": {},
   "outputs": [
    {
     "name": "stdout",
     "output_type": "stream",
     "text": [
      "id\n",
      "name\n",
      "age\n",
      "position\n",
      "club\n",
      "league\n",
      "season\n",
      "nationality\n",
      "market_value\n",
      "salary\n",
      "minutes_played\n",
      "appearances\n",
      "goals\n",
      "assists\n",
      "yellow_cards\n",
      "red_cards\n",
      "goals_involved_per_90\n",
      "assists_per_90\n",
      "goals_per_90\n",
      "cards_per_90\n",
      "min_per_match\n",
      "min_per_goal\n",
      "min_per_card\n",
      "min_per_assist\n",
      "rank_in_league_top_attackers\n",
      "rank_in_league_top_midfielders\n",
      "rank_in_league_top_defenders\n",
      "average_rating\n",
      "passes_per_90\n",
      "passes_completed_per_90\n",
      "pass_completion_rate\n",
      "key_passes_per_game\n",
      "key_passes_per_90\n",
      "dribbles_per_game\n",
      "dribbles_per_90\n",
      "dribbles_successful_per_game\n",
      "dribbles_successful_per_90\n",
      "dribbles_successful_percentage\n",
      "shots_per_goal_scored\n",
      "shots_off_target_per_game\n",
      "shots_on_target_per_game\n",
      "shot_accuraccy_percentage\n",
      "shot_conversion_rate\n",
      "fouls_drawn_per_90\n",
      "fouls_drawn_per_game\n",
      "fouls_committed_per_90\n",
      "fouls_committed_per_game\n",
      "dispossesed_per_game\n",
      "dispossesed_per_90\n",
      "possession_regained_per_game\n",
      "blocks_per_game\n",
      "blocks_per_90\n",
      "saves_per_game\n",
      "saves_per_90\n",
      "save_percentage\n",
      "interceptions_per_game\n",
      "aerial_duels_won_per_game\n",
      "crosses_per_90\n",
      "cross_completion_rate\n",
      "accurate_crosses_per_game\n",
      "accurate_crosses_per_90\n",
      "distance_travelled_per_game\n",
      "distance_travelled_per_90\n"
     ]
    }
   ],
   "source": [
    "for column in data.columns:\n",
    "    print(column)"
   ]
  },
  {
   "cell_type": "code",
   "execution_count": null,
   "id": "dd0ce015",
   "metadata": {},
   "outputs": [],
   "source": []
  }
 ],
 "metadata": {
  "kernelspec": {
   "display_name": ".venv",
   "language": "python",
   "name": "python3"
  },
  "language_info": {
   "codemirror_mode": {
    "name": "ipython",
    "version": 3
   },
   "file_extension": ".py",
   "mimetype": "text/x-python",
   "name": "python",
   "nbconvert_exporter": "python",
   "pygments_lexer": "ipython3",
   "version": "3.12.10"
  }
 },
 "nbformat": 4,
 "nbformat_minor": 5
}
